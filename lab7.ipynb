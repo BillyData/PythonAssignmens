{
 "cells": [
  {
   "cell_type": "code",
   "execution_count": 25,
   "outputs": [],
   "source": [
    "from statistics import mean"
   ],
   "metadata": {
    "collapsed": false,
    "ExecuteTime": {
     "end_time": "2024-01-23T08:17:24.462965Z",
     "start_time": "2024-01-23T08:17:24.421412Z"
    }
   },
   "id": "54d78a6146442941"
  },
  {
   "cell_type": "code",
   "execution_count": null,
   "outputs": [],
   "source": [
    "print(\"Exercise 1\")"
   ],
   "metadata": {
    "collapsed": false
   },
   "id": "8c138b0d1297a8e"
  },
  {
   "cell_type": "code",
   "execution_count": 31,
   "outputs": [],
   "source": [
    "class VGUStudent:\n",
    "    def __init__(self):\n",
    "        self.scores = []\n",
    "    def input(self):\n",
    "        a, b = map(int, input(\"Please enter 2 integers separated by a space : \").split())\n",
    "        self.scores.append(a)\n",
    "        self.scores.append(b)\n",
    "    def calculate_average_score(self):\n",
    "        return mean(self.scores)"
   ],
   "metadata": {
    "collapsed": false,
    "ExecuteTime": {
     "end_time": "2024-01-23T08:17:42.775720Z",
     "start_time": "2024-01-23T08:17:42.768753Z"
    }
   },
   "id": "6e4cfe3165882af3"
  },
  {
   "cell_type": "code",
   "execution_count": 32,
   "outputs": [],
   "source": [
    "cs2023 = VGUStudent()"
   ],
   "metadata": {
    "collapsed": false,
    "ExecuteTime": {
     "end_time": "2024-01-23T08:17:43.901621Z",
     "start_time": "2024-01-23T08:17:43.896434Z"
    }
   },
   "id": "e30814373e1acee2"
  },
  {
   "cell_type": "code",
   "execution_count": 33,
   "outputs": [],
   "source": [
    "cs2023.input()"
   ],
   "metadata": {
    "collapsed": false,
    "ExecuteTime": {
     "end_time": "2024-01-23T08:17:45.755692Z",
     "start_time": "2024-01-23T08:17:44.315241Z"
    }
   },
   "id": "2a6ebaf76e095e59"
  },
  {
   "cell_type": "code",
   "execution_count": 34,
   "outputs": [
    {
     "data": {
      "text/plain": "[10, 5]"
     },
     "execution_count": 34,
     "metadata": {},
     "output_type": "execute_result"
    }
   ],
   "source": [
    "cs2023.scores"
   ],
   "metadata": {
    "collapsed": false,
    "ExecuteTime": {
     "end_time": "2024-01-23T08:17:46.256336Z",
     "start_time": "2024-01-23T08:17:46.224802Z"
    }
   },
   "id": "999149b09a79aede"
  },
  {
   "cell_type": "code",
   "execution_count": 35,
   "outputs": [
    {
     "data": {
      "text/plain": "7.5"
     },
     "execution_count": 35,
     "metadata": {},
     "output_type": "execute_result"
    }
   ],
   "source": [
    "cs2023.calculate_average_score()"
   ],
   "metadata": {
    "collapsed": false,
    "ExecuteTime": {
     "end_time": "2024-01-23T08:17:46.857987Z",
     "start_time": "2024-01-23T08:17:46.850993Z"
    }
   },
   "id": "9312b1630f3582ff"
  },
  {
   "cell_type": "code",
   "execution_count": 1,
   "outputs": [
    {
     "name": "stdout",
     "output_type": "stream",
     "text": [
      "Exercise 2\n"
     ]
    }
   ],
   "source": [
    "print(\"Exercise 2\")"
   ],
   "metadata": {
    "collapsed": false,
    "ExecuteTime": {
     "end_time": "2024-01-23T09:13:33.641913Z",
     "start_time": "2024-01-23T09:13:33.627611Z"
    }
   },
   "id": "2039ef2ab7f81a6a"
  },
  {
   "cell_type": "markdown",
   "source": [],
   "metadata": {
    "collapsed": false
   },
   "id": "21b9517bf61a96c1"
  },
  {
   "cell_type": "code",
   "execution_count": 47,
   "outputs": [],
   "source": [
    "class CSEStudent(VGUStudent):\n",
    "    def __init__(self):\n",
    "        super().__init__()\n",
    "        s = input(\"Enter 8 integers of presence status : \")\n",
    "        self.presences = [int(el) for el in s.split()]\n",
    "    \n",
    "    def check_presence(self):\n",
    "        return f\"Number of presences of the student is : {sum(self.presences)}\""
   ],
   "metadata": {
    "collapsed": false,
    "ExecuteTime": {
     "end_time": "2024-01-23T08:47:21.301137Z",
     "start_time": "2024-01-23T08:47:21.288561Z"
    }
   },
   "id": "babbd95ad0d8119a"
  },
  {
   "cell_type": "code",
   "execution_count": 48,
   "outputs": [],
   "source": [
    "cs2024 = CSEStudent()"
   ],
   "metadata": {
    "collapsed": false,
    "ExecuteTime": {
     "end_time": "2024-01-23T08:47:28.360575Z",
     "start_time": "2024-01-23T08:47:21.890747Z"
    }
   },
   "id": "f1f7490c72a1d183"
  },
  {
   "cell_type": "code",
   "execution_count": 45,
   "outputs": [
    {
     "data": {
      "text/plain": "[1, 0, 1, 1, 0, 1, 1, 1]"
     },
     "execution_count": 45,
     "metadata": {},
     "output_type": "execute_result"
    }
   ],
   "source": [
    "cs2024.presences"
   ],
   "metadata": {
    "collapsed": false,
    "ExecuteTime": {
     "end_time": "2024-01-23T08:46:42.510491Z",
     "start_time": "2024-01-23T08:46:42.498534Z"
    }
   },
   "id": "b7cfdd1f751d188c"
  },
  {
   "cell_type": "code",
   "execution_count": 49,
   "outputs": [
    {
     "data": {
      "text/plain": "'Number of presences of the student is : 6'"
     },
     "execution_count": 49,
     "metadata": {},
     "output_type": "execute_result"
    }
   ],
   "source": [
    "cs2024.check_presence()"
   ],
   "metadata": {
    "collapsed": false,
    "ExecuteTime": {
     "end_time": "2024-01-23T08:47:29.826366Z",
     "start_time": "2024-01-23T08:47:29.820481Z"
    }
   },
   "id": "9f500fcc5d199ef0"
  },
  {
   "cell_type": "code",
   "execution_count": null,
   "outputs": [],
   "source": [],
   "metadata": {
    "collapsed": false
   },
   "id": "8d344d851023777b"
  }
 ],
 "metadata": {
  "kernelspec": {
   "display_name": "Python 3",
   "language": "python",
   "name": "python3"
  },
  "language_info": {
   "codemirror_mode": {
    "name": "ipython",
    "version": 2
   },
   "file_extension": ".py",
   "mimetype": "text/x-python",
   "name": "python",
   "nbconvert_exporter": "python",
   "pygments_lexer": "ipython2",
   "version": "2.7.6"
  }
 },
 "nbformat": 4,
 "nbformat_minor": 5
}
