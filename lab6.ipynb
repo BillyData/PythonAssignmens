{
 "cells": [
  {
   "cell_type": "code",
   "execution_count": 6,
   "outputs": [],
   "source": [
    "import pandas as pd\n",
    "import numpy as np\n",
    "import matplotlib.pyplot as plt\n",
    "import seaborn as sns"
   ],
   "metadata": {
    "collapsed": false,
    "ExecuteTime": {
     "end_time": "2024-01-16T12:00:23.273782Z",
     "start_time": "2024-01-16T12:00:23.236828Z"
    }
   },
   "id": "6df8f0886bf6915e"
  },
  {
   "cell_type": "code",
   "execution_count": 7,
   "outputs": [],
   "source": [
    "data = [[1, 'Tuan', 9], [2, 'Nam', 8], [3, 'Anh', 7]]\n",
    "df = pd.DataFrame(data, columns = ['id', 'name', 'score'])"
   ],
   "metadata": {
    "collapsed": false,
    "ExecuteTime": {
     "end_time": "2024-01-16T12:00:23.286776Z",
     "start_time": "2024-01-16T12:00:23.268463Z"
    }
   },
   "id": "bdc84381359c4fa6"
  },
  {
   "cell_type": "code",
   "execution_count": 8,
   "outputs": [],
   "source": [
    "df_np = np.array(df)"
   ],
   "metadata": {
    "collapsed": false,
    "ExecuteTime": {
     "end_time": "2024-01-16T12:00:23.292051Z",
     "start_time": "2024-01-16T12:00:23.280445Z"
    }
   },
   "id": "6c147e80272b3e2e"
  },
  {
   "cell_type": "code",
   "execution_count": 9,
   "outputs": [],
   "source": [
    "max_score_row_index = np.argmax(df_np[:, 2])\n",
    "min_score_row_index = np.argmin(df_np[:, 1])"
   ],
   "metadata": {
    "collapsed": false,
    "ExecuteTime": {
     "end_time": "2024-01-16T12:00:23.308238Z",
     "start_time": "2024-01-16T12:00:23.300062Z"
    }
   },
   "id": "393e97fac3ee69ca"
  },
  {
   "cell_type": "code",
   "execution_count": 10,
   "outputs": [
    {
     "data": {
      "text/plain": "array([[1, 'Tuan', 9],\n       [2, 'Nam', 8],\n       [3, 'Anh', 7]], dtype=object)"
     },
     "execution_count": 10,
     "metadata": {},
     "output_type": "execute_result"
    }
   ],
   "source": [
    "df_np"
   ],
   "metadata": {
    "collapsed": false,
    "ExecuteTime": {
     "end_time": "2024-01-16T12:00:23.329497Z",
     "start_time": "2024-01-16T12:00:23.321332Z"
    }
   },
   "id": "f4644ae69fda9cd7"
  },
  {
   "cell_type": "code",
   "execution_count": 11,
   "outputs": [
    {
     "name": "stdout",
     "output_type": "stream",
     "text": [
      "Exercise 1\n",
      "The average score of all the students : 8.0\n",
      "The id of the student with the highest score : 1\n",
      "The id of the student with the lowest score : 3\n"
     ]
    }
   ],
   "source": [
    "print(\"Exercise 1\")\n",
    "print(f'The average score of all the students : {np.average(df_np[:, 2])}')\n",
    "print(f'The id of the student with the highest score : {df_np[max_score_row_index][0]}')\n",
    "print(f'The id of the student with the lowest score : {df_np[min_score_row_index][0]}')"
   ],
   "metadata": {
    "collapsed": false,
    "ExecuteTime": {
     "end_time": "2024-01-16T12:00:23.347412Z",
     "start_time": "2024-01-16T12:00:23.335921Z"
    }
   },
   "id": "52a7f1cf591291fe"
  },
  {
   "cell_type": "code",
   "execution_count": 12,
   "outputs": [],
   "source": [
    "s = input('Enter a list of numbers separated by space')"
   ],
   "metadata": {
    "collapsed": false,
    "ExecuteTime": {
     "end_time": "2024-01-16T12:00:37.336846Z",
     "start_time": "2024-01-16T12:00:23.352812Z"
    }
   },
   "id": "98cecb711990ccec"
  },
  {
   "cell_type": "code",
   "execution_count": 13,
   "outputs": [
    {
     "data": {
      "text/plain": "'1 2 3 4 -8 -10'"
     },
     "execution_count": 13,
     "metadata": {},
     "output_type": "execute_result"
    }
   ],
   "source": [
    "s"
   ],
   "metadata": {
    "collapsed": false,
    "ExecuteTime": {
     "end_time": "2024-01-16T12:00:37.337209Z",
     "start_time": "2024-01-16T12:00:37.288364Z"
    }
   },
   "id": "e76113aeddeaa7ff"
  },
  {
   "cell_type": "code",
   "execution_count": 14,
   "outputs": [],
   "source": [
    "lst = [int(el) for el in s.split()]"
   ],
   "metadata": {
    "collapsed": false,
    "ExecuteTime": {
     "end_time": "2024-01-16T12:00:37.343100Z",
     "start_time": "2024-01-16T12:00:37.296533Z"
    }
   },
   "id": "cbc438455ec061d0"
  },
  {
   "cell_type": "code",
   "execution_count": 15,
   "outputs": [
    {
     "data": {
      "text/plain": "[1, 2, 3, 4, -8, -10]"
     },
     "execution_count": 15,
     "metadata": {},
     "output_type": "execute_result"
    }
   ],
   "source": [
    "lst"
   ],
   "metadata": {
    "collapsed": false,
    "ExecuteTime": {
     "end_time": "2024-01-16T12:00:37.343637Z",
     "start_time": "2024-01-16T12:00:37.306725Z"
    }
   },
   "id": "25178153ecb8ea91"
  },
  {
   "cell_type": "code",
   "execution_count": 16,
   "outputs": [
    {
     "name": "stdout",
     "output_type": "stream",
     "text": [
      "Exercise 2: reversed NumPy Array with the element type float from a space separated list of numbers\n"
     ]
    },
    {
     "data": {
      "text/plain": "array([-10.,  -8.,   4.,   3.,   2.,   1.])"
     },
     "execution_count": 16,
     "metadata": {},
     "output_type": "execute_result"
    }
   ],
   "source": [
    "lst_np = np.array(lst[::-1], float)\n",
    "print('Exercise 2: reversed NumPy Array with the element type float from a space separated list of numbers')\n",
    "lst_np"
   ],
   "metadata": {
    "collapsed": false,
    "ExecuteTime": {
     "end_time": "2024-01-16T12:00:37.409854Z",
     "start_time": "2024-01-16T12:00:37.351047Z"
    }
   },
   "id": "109ef49c4de6d472"
  },
  {
   "cell_type": "code",
   "execution_count": 30,
   "outputs": [],
   "source": [
    "n = int(input(\"Enter number of rows of the 2-D array\"))\n",
    "m = int(input(\"Enter number of columns of the 2-D array\"))"
   ],
   "metadata": {
    "collapsed": false,
    "ExecuteTime": {
     "end_time": "2024-01-16T12:14:20.408330Z",
     "start_time": "2024-01-16T12:14:17.057855Z"
    }
   },
   "id": "75144284977401e3"
  },
  {
   "cell_type": "code",
   "execution_count": 31,
   "outputs": [
    {
     "name": "stdout",
     "output_type": "stream",
     "text": [
      "5\n",
      "2\n"
     ]
    }
   ],
   "source": [
    "print(n)\n",
    "print(m)\n",
    "TwoDArr = []"
   ],
   "metadata": {
    "collapsed": false,
    "ExecuteTime": {
     "end_time": "2024-01-16T12:14:21.740215Z",
     "start_time": "2024-01-16T12:14:21.729563Z"
    }
   },
   "id": "4b23db350b1af4a0"
  },
  {
   "cell_type": "code",
   "execution_count": 35,
   "outputs": [
    {
     "data": {
      "text/plain": "[[4, 2],\n [2, 5],\n [3, 7],\n [1, 3],\n [4, 0],\n [4, 2],\n [2, 5],\n [3, 7],\n [1, 3],\n [4, 0]]"
     },
     "execution_count": 35,
     "metadata": {},
     "output_type": "execute_result"
    }
   ],
   "source": [
    "for i in range(0, n):\n",
    "    row = [int(el) for el in input().split()]\n",
    "    TwoDArr.append(row)\n",
    "TwoDArr"
   ],
   "metadata": {
    "collapsed": false,
    "ExecuteTime": {
     "end_time": "2024-01-16T12:15:32.742836Z",
     "start_time": "2024-01-16T12:15:22.196356Z"
    }
   },
   "id": "9191de49a16ad662"
  },
  {
   "cell_type": "code",
   "execution_count": 33,
   "outputs": [],
   "source": [
    "TwoDArr_np = np.array(TwoDArr)"
   ],
   "metadata": {
    "collapsed": false,
    "ExecuteTime": {
     "end_time": "2024-01-16T12:15:02.394999Z",
     "start_time": "2024-01-16T12:15:02.361238Z"
    }
   },
   "id": "ceac73f12eb351cc"
  },
  {
   "cell_type": "code",
   "execution_count": 34,
   "outputs": [
    {
     "data": {
      "text/plain": "array([[4, 2],\n       [2, 5],\n       [3, 7],\n       [1, 3],\n       [4, 0]])"
     },
     "execution_count": 34,
     "metadata": {},
     "output_type": "execute_result"
    }
   ],
   "source": [
    "TwoDArr_np"
   ],
   "metadata": {
    "collapsed": false,
    "ExecuteTime": {
     "end_time": "2024-01-16T12:15:07.524613Z",
     "start_time": "2024-01-16T12:15:07.497167Z"
    }
   },
   "id": "f9d4482d011bda91"
  },
  {
   "cell_type": "code",
   "execution_count": 37,
   "outputs": [
    {
     "data": {
      "text/plain": "array([2, 2, 3, 1, 0])"
     },
     "execution_count": 37,
     "metadata": {},
     "output_type": "execute_result"
    }
   ],
   "source": [
    "minRow = TwoDArr_np.min(axis = 1)\n",
    "minRow"
   ],
   "metadata": {
    "collapsed": false,
    "ExecuteTime": {
     "end_time": "2024-01-16T12:16:18.966278Z",
     "start_time": "2024-01-16T12:16:18.954717Z"
    }
   },
   "id": "4a47df8fef61a6bc"
  },
  {
   "cell_type": "code",
   "execution_count": 38,
   "outputs": [
    {
     "data": {
      "text/plain": "3"
     },
     "execution_count": 38,
     "metadata": {},
     "output_type": "execute_result"
    }
   ],
   "source": [
    "minRow.max(axis = 0)"
   ],
   "metadata": {
    "collapsed": false,
    "ExecuteTime": {
     "end_time": "2024-01-16T12:16:32.728176Z",
     "start_time": "2024-01-16T12:16:32.700470Z"
    }
   },
   "id": "52a5c54e87af6a38"
  },
  {
   "cell_type": "code",
   "execution_count": 45,
   "outputs": [
    {
     "data": {
      "text/plain": "array([0.        , 2.39871394, 3.04538007, 3.43485866, 3.71445061,\n       3.93270848, 4.1117596 , 4.26356769, 4.39533854, 4.51175011,\n       4.6160121 , 4.71042259, 4.7966836 , 4.87609095, 4.949654  ,\n       5.01817437, 5.08229927, 5.14255879, 5.19939255, 5.25316921,\n       5.30420093, 5.35275436, 5.39905912, 5.44331431, 5.48569369,\n       5.52634985, 5.56541745, 5.60301599, 5.63925196, 5.67422067,\n       5.70800777, 5.74069051, 5.77233881, 5.80301615, 5.83278033,\n       5.86168415, 5.88977596, 5.91710013, 5.94369751, 5.96960575,\n       5.99485968, 6.01949152, 6.04353119, 6.0670065 , 6.08994333,\n       6.11236584, 6.13429659, 6.15575668, 6.17676589, 6.19734279,\n       6.2175048 , 6.23726832, 6.25664881, 6.27566082, 6.29431811,\n       6.31263367, 6.3306198 , 6.34828813, 6.3656497 , 6.38271499,\n       6.39949393, 6.41599598, 6.43223013, 6.44820493, 6.46392855,\n       6.47940875, 6.49465297, 6.50966829, 6.52446148, 6.53903902,\n       6.5534071 , 6.56757166, 6.58153838, 6.59531272, 6.60889991,\n       6.62230495, 6.63553267, 6.6485877 , 6.66147449, 6.67419733,\n       6.68676032, 6.69916744, 6.71142251, 6.72352921, 6.73549109,\n       6.74731157, 6.75899395, 6.77054144, 6.7819571 , 6.79324391,\n       6.80440475, 6.8154424 , 6.82635955, 6.83715881, 6.84784268,\n       6.85841361, 6.86887397, 6.87922604, 6.88947204, 6.89961412,\n       6.90965438, 6.91959482, 6.92943743, 6.93918411, 6.9488367 ,\n       6.95839701, 6.96786679, 6.97724773, 6.98654148, 6.99574966,\n       7.00487381, 7.01391547, 7.02287612, 7.03175718, 7.04056006,\n       7.04928612, 7.0579367 , 7.06651309, 7.07501655, 7.08344831,\n       7.09180957, 7.1001015 , 7.10832523, 7.11648189, 7.12457256,\n       7.13259829, 7.14056012, 7.14845906, 7.15629609, 7.16407219,\n       7.17178828, 7.17944529, 7.18704412, 7.19458564, 7.20207071,\n       7.20950017, 7.21687484, 7.22419552, 7.231463  , 7.23867804,\n       7.2458414 , 7.25295381, 7.26001599, 7.26702865, 7.27399247,\n       7.28090813, 7.28777629, 7.2945976 , 7.3013727 , 7.30810221,\n       7.31478673, 7.32142686, 7.3280232 , 7.3345763 , 7.34108675,\n       7.34755508, 7.35398184, 7.36036756, 7.36671276, 7.37301796,\n       7.37928365, 7.38551032, 7.39169846, 7.39784855, 7.40396104,\n       7.41003639, 7.41607506, 7.42207749, 7.42804409, 7.43397531,\n       7.43987156, 7.44573324, 7.45156077, 7.45735453, 7.46311492,\n       7.46884231, 7.47453709, 7.48019962, 7.48583027, 7.49142939,\n       7.49699734, 7.50253446, 7.50804108, 7.51351755, 7.51896419,\n       7.52438132, 7.52976927, 7.53512834, 7.54045885, 7.54576109,\n       7.55103536, 7.55628197, 7.56150119, 7.56669331, 7.57185861,\n       7.57699737, 7.58210986, 7.58719635, 7.59225709, 7.59729235,\n       7.60230238, 7.60728744, 7.61224777, 7.61718361, 7.62209522,\n       7.62698281, 7.63184664, 7.63668692, 7.64150389, 7.64629776,\n       7.65106877, 7.65581712, 7.66054303, 7.66524671, 7.66992836,\n       7.67458821, 7.67922644, 7.68384325, 7.68843885, 7.69301342,\n       7.69756717, 7.70210027, 7.70661291, 7.71110529, 7.71557757,\n       7.72002994, 7.72446257, 7.72887564, 7.73326932, 7.73764378,\n       7.74199919, 7.74633572, 7.75065351, 7.75495275, 7.75923358,\n       7.76349616, 7.76774065, 7.7719672 , 7.77617596, 7.78036709,\n       7.78454072, 7.788697  , 7.79283608, 7.7969581 , 7.8010632 ,\n       7.80515151, 7.80922318, 7.81327834, 7.81731712, 7.82133965,\n       7.82534607, 7.8293365 , 7.83331107, 7.8372699 , 7.84121312,\n       7.84514086, 7.84905323, 7.85295035, 7.85683235, 7.86069933,\n       7.86455141, 7.86838872, 7.87221136, 7.87601943, 7.87981307,\n       7.88359236, 7.88735743, 7.89110837, 7.8948453 , 7.89856831,\n       7.90227752, 7.90597301, 7.9096549 , 7.91332329, 7.91697826,\n       7.92061993, 7.92424838, 7.92786372, 7.93146603, 7.93505541,\n       7.93863195, 7.94219575, 7.94574689, 7.94928546, 7.95281156,\n       7.95632527, 7.95982667, 7.96331586, 7.96679292, 7.97025793,\n       7.97371097, 7.97715213, 7.98058149, 7.98399913, 7.98740513,\n       7.99079957, 7.99418252, 7.99755407, 8.00091429, 8.00426325,\n       8.00760104, 8.01092772, 8.01424338, 8.01754808, 8.02084189,\n       8.02412489, 8.02739714, 8.03065872, 8.0339097 , 8.03715015,\n       8.04038012, 8.0435997 , 8.04680895, 8.05000793, 8.05319671,\n       8.05637535, 8.05954392, 8.06270249, 8.0658511 , 8.06898984,\n       8.07211875, 8.07523791, 8.07834737, 8.08144718, 8.08453742,\n       8.08761814, 8.0906894 , 8.09375125, 8.09680375, 8.09984697,\n       8.10288095, 8.10590576, 8.10892145, 8.11192806, 8.11492567,\n       8.11791431, 8.12089406, 8.12386494, 8.12682703, 8.12978037,\n       8.13272502, 8.13566101, 8.13858842, 8.14150728, 8.14441764,\n       8.14731956, 8.15021308, 8.15309825, 8.15597512, 8.15884374,\n       8.16170416, 8.16455642, 8.16740056, 8.17023664, 8.17306469,\n       8.17588477, 8.17869693, 8.18150119, 8.18429761, 8.18708624,\n       8.18986711, 8.19264027, 8.19540576, 8.19816362, 8.2009139 ,\n       8.20365663, 8.20639186, 8.20911963, 8.21183998, 8.21455295,\n       8.21725858, 8.21995691, 8.22264798, 8.22533183, 8.22800849,\n       8.23067801, 8.23334041, 8.23599575, 8.23864406, 8.24128537,\n       8.24391973, 8.24654716, 8.24916771, 8.25178141, 8.25438829,\n       8.2569884 , 8.25958176, 8.26216841, 8.26474839, 8.26732174,\n       8.26988847, 8.27244864, 8.27500227, 8.27754939, 8.28009004,\n       8.28262426, 8.28515207, 8.2876735 , 8.29018859, 8.29269737,\n       8.29519988, 8.29769614, 8.30018618, 8.30267004, 8.30514774,\n       8.30761932, 8.3100848 , 8.31254422, 8.31499761, 8.31744499,\n       8.3198864 , 8.32232186, 8.32475141, 8.32717506, 8.32959286,\n       8.33200483, 8.33441099, 8.33681137, 8.33920601, 8.34159493,\n       8.34397815, 8.34635571, 8.34872763, 8.35109393, 8.35345465,\n       8.35580981, 8.35815944, 8.36050356, 8.36284219, 8.36517537,\n       8.36750312, 8.36982546, 8.37214242, 8.37445403, 8.3767603 ,\n       8.37906127, 8.38135696, 8.38364738, 8.38593258, 8.38821256,\n       8.39048736, 8.39275699, 8.39502149, 8.39728086, 8.39953515,\n       8.40178436, 8.40402853, 8.40626767, 8.40850181, 8.41073097,\n       8.41295517, 8.41517443, 8.41738878, 8.41959824, 8.42180283,\n       8.42400257, 8.42619747, 8.42838758, 8.43057289, 8.43275344,\n       8.43492925, 8.43710033, 8.43926671, 8.44142841, 8.44358544,\n       8.44573783, 8.4478856 , 8.45002876, 8.45216734, 8.45430136,\n       8.45643083, 8.45855578, 8.46067623, 8.46279218, 8.46490367,\n       8.46701071, 8.46911332, 8.47121151, 8.47330532, 8.47539474,\n       8.47747982, 8.47956055, 8.48163696, 8.48370907, 8.4857769 ,\n       8.48784046, 8.48989977, 8.49195484, 8.49400571, 8.49605237,\n       8.49809486, 8.50013318, 8.50216735, 8.5041974 , 8.50622333,\n       8.50824517, 8.51026293, 8.51227662, 8.51428627, 8.51629188,\n       8.51829349, 8.52029109, 8.52228471, 8.52427437, 8.52626007,\n       8.52824184, 8.53021969, 8.53219363, 8.53416369, 8.53612987,\n       8.5380922 , 8.54005068, 8.54200533, 8.54395617, 8.54590321,\n       8.54784647, 8.54978596, 8.55172169, 8.55365369, 8.55558196,\n       8.55750652, 8.55942738, 8.56134456, 8.56325807, 8.56516792,\n       8.56707414, 8.56897673, 8.5708757 , 8.57277108, 8.57466287,\n       8.57655109, 8.57843575, 8.58031686, 8.58219444, 8.58406851,\n       8.58593907, 8.58780613, 8.58966972, 8.59152984, 8.5933865 ,\n       8.59523973, 8.59708953, 8.59893591, 8.60077889, 8.60261848,\n       8.60445469, 8.60628753, 8.60811702, 8.60994318, 8.611766  ,\n       8.6135855 , 8.61540171, 8.61721461, 8.61902424, 8.6208306 ,\n       8.6226337 , 8.62443356, 8.62623018, 8.62802358, 8.62981378,\n       8.63160077, 8.63338457, 8.6351652 , 8.63694266, 8.63871697,\n       8.64048814, 8.64225617, 8.64402108, 8.64578289, 8.6475416 ,\n       8.64929721, 8.65104976, 8.65279923, 8.65454565, 8.65628903,\n       8.65802937, 8.65976669, 8.66150099, 8.6632323 , 8.66496061,\n       8.66668594, 8.66840829, 8.67012769, 8.67184413, 8.67355764,\n       8.67526821, 8.67697586, 8.6786806 , 8.68038244, 8.68208138,\n       8.68377745, 8.68547064, 8.68716098, 8.68884846, 8.69053309,\n       8.6922149 , 8.69389388, 8.69557004, 8.6972434 , 8.69891397,\n       8.70058175, 8.70224675, 8.70390898, 8.70556846, 8.70722519,\n       8.70887917, 8.71053043, 8.71217896, 8.71382478, 8.7154679 ,\n       8.71710832, 8.71874605, 8.72038111, 8.7220135 , 8.72364322,\n       8.7252703 , 8.72689473, 8.72851653, 8.7301357 , 8.73175225,\n       8.7333662 , 8.73497754, 8.7365863 , 8.73819246, 8.73979606,\n       8.74139708, 8.74299555, 8.74459146, 8.74618483, 8.74777567,\n       8.74936398, 8.75094977, 8.75253306, 8.75411383, 8.75569212,\n       8.75726791, 8.75884123, 8.76041208, 8.76198046, 8.76354638,\n       8.76510986, 8.7666709 , 8.7682295 , 8.76978568, 8.77133944,\n       8.77289079, 8.77443974, 8.77598629, 8.77753045, 8.77907224,\n       8.78061165, 8.78214869, 8.78368337, 8.78521571, 8.7867457 ,\n       8.78827335, 8.78979867, 8.79132167, 8.79284235, 8.79436072,\n       8.79587679, 8.79739057, 8.79890205, 8.80041126, 8.80191819,\n       8.80342286, 8.80492526, 8.80642541, 8.80792332, 8.80941898,\n       8.81091241, 8.81240361, 8.81389259, 8.81537936, 8.81686392,\n       8.81834628, 8.81982645, 8.82130443, 8.82278023, 8.82425385,\n       8.8257253 , 8.82719459, 8.82866173, 8.83012672, 8.83158956,\n       8.83305027, 8.83450885, 8.8359653 , 8.83741963, 8.83887186,\n       8.84032197, 8.84176999, 8.84321591, 8.84465975, 8.8461015 ,\n       8.84754118, 8.84897879, 8.85041433, 8.85184782, 8.85327925,\n       8.85470864, 8.85613599, 8.8575613 , 8.85898459, 8.86040585,\n       8.8618251 , 8.86324233, 8.86465756, 8.86607079, 8.86748202,\n       8.86889127, 8.87029853, 8.87170381, 8.87310713, 8.87450847,\n       8.87590786, 8.87730528, 8.87870076, 8.8800943 , 8.88148589,\n       8.88287555, 8.88426329, 8.8856491 , 8.88703299, 8.88841497,\n       8.88979504, 8.89117321, 8.89254948, 8.89392387, 8.89529636,\n       8.89666698, 8.89803571, 8.89940258, 8.90076758, 8.90213072,\n       8.90349201, 8.90485145, 8.90620903, 8.90756478, 8.9089187 ,\n       8.91027078, 8.91162104, 8.91296947, 8.91431609, 8.9156609 ,\n       8.91700391, 8.91834511, 8.91968451, 8.92102213, 8.92235795,\n       8.923692  , 8.92502427, 8.92635476, 8.92768349, 8.92901045,\n       8.93033566, 8.93165911, 8.93298081, 8.93430077, 8.93561899,\n       8.93693547, 8.93825023, 8.93956325, 8.94087455, 8.94218414,\n       8.94349201, 8.94479818, 8.94610264, 8.9474054 , 8.94870647,\n       8.95000585, 8.95130354, 8.95259955, 8.95389388, 8.95518654,\n       8.95647753, 8.95776685, 8.95905451, 8.96034052, 8.96162488,\n       8.96290759, 8.96418866, 8.96546808, 8.96674588, 8.96802204,\n       8.96929657, 8.97056948, 8.97184078, 8.97311046, 8.97437853,\n       8.97564499, 8.97690986, 8.97817312, 8.97943479, 8.98069487,\n       8.98195337, 8.98321028, 8.98446562, 8.98571938, 8.98697157,\n       8.9882222 , 8.98947126, 8.99071876, 8.99196472, 8.99320912,\n       8.99445197, 8.99569328, 8.99693305, 8.99817129, 8.999408  ,\n       9.00064317, 9.00187683, 9.00310896, 9.00433958, 9.00556869,\n       9.00679628, 9.00802237, 9.00924696, 9.01047006, 9.01169165,\n       9.01291176, 9.01413038, 9.01534752, 9.01656318, 9.01777736,\n       9.01899007, 9.02020131, 9.02141109, 9.0226194 , 9.02382625,\n       9.02503166, 9.0262356 , 9.02743811, 9.02863916, 9.02983878,\n       9.03103696, 9.0322337 , 9.03342902, 9.03462291, 9.03581537,\n       9.03700641, 9.03819604, 9.03938425, 9.04057106, 9.04175645,\n       9.04294045, 9.04412304, 9.04530423, 9.04648404, 9.04766245,\n       9.04883947, 9.05001511, 9.05118937, 9.05236226, 9.05353377,\n       9.0547039 , 9.05587267, 9.05704008, 9.05820613, 9.05937081,\n       9.06053415, 9.06169613, 9.06285676, 9.06401604, 9.06517399,\n       9.06633059, 9.06748586, 9.06863979, 9.0697924 , 9.07094368,\n       9.07209363, 9.07324227, 9.07438958, 9.07553558, 9.07668027,\n       9.07782365, 9.07896573, 9.0801065 , 9.08124597, 9.08238414,\n       9.08352102, 9.08465661, 9.08579091, 9.08692393, 9.08805566,\n       9.08918612, 9.0903153 , 9.0914432 , 9.09256984, 9.0936952 ,\n       9.0948193 , 9.09594214, 9.09706372, 9.09818404, 9.09930311,\n       9.10042093, 9.1015375 , 9.10265283, 9.10376691, 9.10487975,\n       9.10599136, 9.10710173, 9.10821087, 9.10931878, 9.11042546,\n       9.11153092, 9.11263516, 9.11373819, 9.11483999, 9.11594059,\n       9.11703997, 9.11813815, 9.11923512, 9.12033089, 9.12142546,\n       9.12251884, 9.12361102, 9.12470201, 9.12579181, 9.12688042,\n       9.12796785, 9.1290541 , 9.13013917, 9.13122306, 9.13230578,\n       9.13338733, 9.13446771, 9.13554693, 9.13662498, 9.13770187,\n       9.1387776 , 9.13985217, 9.1409256 , 9.14199787, 9.14306899,\n       9.14413897, 9.1452078 , 9.14627549, 9.14734205, 9.14840746,\n       9.14947175, 9.1505349 , 9.15159692, 9.15265781, 9.15371759,\n       9.15477624, 9.15583376, 9.15689018, 9.15794548, 9.15899966,\n       9.16005274, 9.1611047 , 9.16215557, 9.16320532, 9.16425398,\n       9.16530154, 9.166348  , 9.16739337, 9.16843765, 9.16948084,\n       9.17052294, 9.17156396, 9.17260389, 9.17364274, 9.17468052,\n       9.17571722, 9.17675284, 9.1777874 , 9.17882088, 9.1798533 ,\n       9.18088465, 9.18191495, 9.18294418, 9.18397235, 9.18499946,\n       9.18602553, 9.18705054, 9.1880745 , 9.18909741, 9.19011928,\n       9.1911401 , 9.19215989, 9.19317863, 9.19419634, 9.19521301,\n       9.19622866, 9.19724327, 9.19825685, 9.1992694 , 9.20028094,\n       9.20129145, 9.20230093, 9.20330941, 9.20431686, 9.2053233 ,\n       9.20632873, 9.20733315, 9.20833656, 9.20933897, 9.21034037])"
     },
     "execution_count": 45,
     "metadata": {},
     "output_type": "execute_result"
    }
   ],
   "source": [
    "x = np.linspace(1, 10000, 1000)\n",
    "y = np.log(x)\n",
    "y"
   ],
   "metadata": {
    "collapsed": false,
    "ExecuteTime": {
     "end_time": "2024-01-16T12:20:16.817984Z",
     "start_time": "2024-01-16T12:20:16.786716Z"
    }
   },
   "id": "5aae5d5635e32c7d"
  },
  {
   "cell_type": "code",
   "execution_count": 47,
   "outputs": [
    {
     "data": {
      "text/plain": "<Figure size 640x480 with 1 Axes>",
      "image/png": "[encoded data removed]"
     },
     "metadata": {},
     "output_type": "display_data"
    }
   ],
   "source": [
    "# Plot the data\n",
    "plt.plot(x, y, label='y = log(x)')\n",
    "plt.title('Plot of y = log(x)')\n",
    "plt.xlabel('x')\n",
    "plt.ylabel('y')\n",
    "plt.legend()\n",
    "plt.grid(True)\n",
    "plt.show()"
   ],
   "metadata": {
    "collapsed": false,
    "ExecuteTime": {
     "end_time": "2024-01-16T12:22:45.634254Z",
     "start_time": "2024-01-16T12:22:45.431158Z"
    }
   },
   "id": "4e386cd1ee969ba0"
  },
  {
   "cell_type": "code",
   "execution_count": null,
   "outputs": [],
   "source": [],
   "metadata": {
    "collapsed": false
   },
   "id": "dfd6a87dd2f3e3a2"
  }
 ],
 "metadata": {
  "kernelspec": {
   "display_name": "Python 3",
   "language": "python",
   "name": "python3"
  },
  "language_info": {
   "codemirror_mode": {
    "name": "ipython",
    "version": 2
   },
   "file_extension": ".py",
   "mimetype": "text/x-python",
   "name": "python",
   "nbconvert_exporter": "python",
   "pygments_lexer": "ipython2",
   "version": "2.7.6"
  }
 },
 "nbformat": 4,
 "nbformat_minor": 5
}
